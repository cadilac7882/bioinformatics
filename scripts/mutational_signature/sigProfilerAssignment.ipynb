{
 "cells": [
  {
   "cell_type": "code",
   "execution_count": null,
   "metadata": {},
   "outputs": [],
   "source": [
    "import os\n",
    "import pandas as pd\n",
    "from SigProfilerAssignment import Analyzer as Analyze\n",
    "import matplotlib.pyplot as plt\n",
    "import gc\n",
    "import re"
   ]
  },
  {
   "cell_type": "code",
   "execution_count": null,
   "metadata": {},
   "outputs": [],
   "source": [
    "os.getcwd()"
   ]
  },
  {
   "cell_type": "code",
   "execution_count": null,
   "metadata": {},
   "outputs": [],
   "source": [
    "tmp=pd.read_csv(\"somatic_variant_v1.tsv\",sep=\"\\t\")"
   ]
  },
  {
   "cell_type": "code",
   "execution_count": null,
   "metadata": {},
   "outputs": [],
   "source": [
    "tmp.head()"
   ]
  },
  {
   "cell_type": "code",
   "execution_count": null,
   "metadata": {},
   "outputs": [],
   "source": [
    "aa=tmp['id'].value_counts()\n",
    "aa=pd.DataFrame.from_dict({\"sample_id\":aa.index,\"variant_count\":aa.values})"
   ]
  },
  {
   "cell_type": "code",
   "execution_count": null,
   "metadata": {},
   "outputs": [],
   "source": [
    "aa"
   ]
  },
  {
   "cell_type": "code",
   "execution_count": null,
   "metadata": {},
   "outputs": [],
   "source": [
    "aa.to_csv(\"variant_per_sample_v1.tsv\",sep=\"\\t\",index=None)"
   ]
  },
  {
   "cell_type": "code",
   "execution_count": null,
   "metadata": {},
   "outputs": [],
   "source": [
    "aa['variant_count'].describe()"
   ]
  },
  {
   "cell_type": "code",
   "execution_count": null,
   "metadata": {},
   "outputs": [],
   "source": [
    "samples=tmp['id'].unique()"
   ]
  },
  {
   "cell_type": "markdown",
   "metadata": {},
   "source": [
    "#### Looped mutational signature analysis"
   ]
  },
  {
   "cell_type": "code",
   "execution_count": null,
   "metadata": {},
   "outputs": [],
   "source": [
    "for sample in samples:\n",
    "    sub_variants=tmp.loc[(tmp['id']==sample) & (tmp['Variant_type']==\"SNV\") & (tmp['tumor']>=0.02) ,['Chr','Start','id','Ref','Alt']]\n",
    "    result_path=f\"signature_v3/{sample}\"\n",
    "    if not os.path.exists(result_path):\n",
    "        os.mkdir(result_path)\n",
    "    sub_variants[['Chr','Start','id','Ref','Alt']].to_csv(f\"{result_path}/filtered.vcf\",sep=\"\\t\",index=None,header=None)\n",
    "    Analyze.cosmic_fit(samples=result_path, \n",
    "                   output=f\"{result_path}/Assignment\",\n",
    "                   input_type=\"vcf\",\n",
    "                   context_type=\"96\",\n",
    "                   genome_build=\"GRCh37\",\n",
    "                   make_plots=True,\n",
    "                   sample_reconstruction_plots=True,\n",
    "                   exclude_signature_subgroups=None,\n",
    "                   cosmic_version=3.4)\n",
    "    aetiology=pd.read_csv('aetiology_map.tsv',sep='\\t')\n",
    "    tmp_signature_assignment=pd.read_csv(f\"{result_path}/Assignment/Assignment_Solution/Activities/Assignment_Solution_Activities.txt\",sep='\\t')\n",
    "    tmp_signature_assignment={tmp_signature_assignment.columns[i]:tmp_signature_assignment.iloc[0,i] for i in range(1,tmp_signature_assignment.shape[1]) }\n",
    "    tmp_signature_assignment={i:round(tmp_signature_assignment[i]/sum(tmp_signature_assignment.values()),2)  for i in tmp_signature_assignment.keys()}\n",
    "    plotdata=pd.DataFrame.from_dict({'signature':tmp_signature_assignment.keys(),'freq':tmp_signature_assignment.values()})\n",
    "    plotdata=plotdata[plotdata['freq']!=0]\n",
    "    plotdata=pd.merge(plotdata,aetiology,on='signature',how='left')\n",
    "    plotdata.loc[plotdata['aetiology'].isnull(),'aetiology']='Possible sequencing artefact'\n",
    "    labels = list(tmp_signature_assignment.keys())\n",
    "    sizes = list(tmp_signature_assignment.values())\n",
    "    fig1, ax1 = plt.subplots()\n",
    "    ax1.pie(plotdata['freq'], labels=plotdata['signature']+'\\n'+plotdata['aetiology'], autopct='%1.1f%%', startangle=90)\n",
    "    plt.savefig(f\"{result_path}/pie_chart.pdf\", format=\"pdf\", bbox_inches=\"tight\")\n",
    "    plt.show()"
   ]
  },
  {
   "cell_type": "markdown",
   "metadata": {},
   "source": [
    "### Merge all signatures"
   ]
  },
  {
   "cell_type": "code",
   "execution_count": null,
   "metadata": {},
   "outputs": [],
   "source": [
    "sample_full=pd.read_csv(\"variant_per_sample_v1.tsv\",sep=\"\\t\")\n",
    "sig_matrix=pd.DataFrame()\n",
    "for sample in sample_full['sample_id']:\n",
    "    result_path=f\"signature_v3/{sample}\"\n",
    "    tmp_signature_assignment=pd.read_csv(f\"{result_path}/Assignment/Assignment_Solution/Activities/Assignment_Solution_Activities.txt\",sep='\\t')\n",
    "    tmp_signature_assignment['Samples']=sample\n",
    "    total=tmp_signature_assignment.iloc[:,1:].values.sum()\n",
    "    for signature in tmp_signature_assignment.columns[tmp_signature_assignment.columns.str.contains('SBS')]:\n",
    "        tmp_signature_assignment[signature]=tmp_signature_assignment[signature]/total\n",
    "    sig_matrix=pd.concat([sig_matrix,tmp_signature_assignment],axis=0)"
   ]
  },
  {
   "cell_type": "code",
   "execution_count": null,
   "metadata": {},
   "outputs": [],
   "source": [
    "sig_matrix.head()"
   ]
  },
  {
   "cell_type": "code",
   "execution_count": null,
   "metadata": {},
   "outputs": [],
   "source": [
    "merged_results=pd.merge(sample_full,sig_matrix,left_on=\"sample_id\",right_on=\"Samples\",how=\"inner\")"
   ]
  },
  {
   "cell_type": "code",
   "execution_count": null,
   "metadata": {},
   "outputs": [],
   "source": [
    "merged_results.head()"
   ]
  },
  {
   "cell_type": "markdown",
   "metadata": {},
   "source": [
    "#### Summarize QC metrics for mutational signature"
   ]
  },
  {
   "cell_type": "code",
   "execution_count": null,
   "metadata": {},
   "outputs": [],
   "source": [
    "sig_qc_table=pd.DataFrame()\n",
    "for sample in sample_full.sample_id:\n",
    "    result_path=f\"signature_v3/{sample}\"\n",
    "    tmp_signature_assignment_quality=pd.read_csv(f\"{result_path}/Assignment/Assignment_Solution/Solution_Stats/Assignment_Solution_Samples_Stats.txt\",sep='\\t')\n",
    "    tmp_signature_assignment_quality['Sample Names']=sample\n",
    "    sig_qc_table = pd.concat([sig_qc_table,tmp_signature_assignment_quality],axis=0)"
   ]
  },
  {
   "cell_type": "code",
   "execution_count": null,
   "metadata": {},
   "outputs": [],
   "source": [
    "sig_qc_table.head()"
   ]
  },
  {
   "cell_type": "markdown",
   "metadata": {},
   "source": [
    "#### Combine all metrics"
   ]
  },
  {
   "cell_type": "code",
   "execution_count": null,
   "metadata": {},
   "outputs": [],
   "source": [
    "merged_results=pd.merge(sample_full,sig_qc_table,left_on='sample_id',right_on='Sample Names',how=\"inner\")\n",
    "merged_results=merged_results.merge(sig_matrix,left_on=\"sample_id\",right_on=\"Samples\",how=\"inner\")\n",
    "merged_results=merged_results.drop(columns=['Sample Names','Samples'])\n",
    "merged_results=merged_results.rename(columns={'sample_id':'Sample ID','variant_count':'Variant count','Total Mutations':'Total SNV'})"
   ]
  },
  {
   "cell_type": "code",
   "execution_count": null,
   "metadata": {},
   "outputs": [],
   "source": [
    "merged_results['Sample ID']=merged_results['Sample ID'].astype(str).str.zfill(8)"
   ]
  },
  {
   "cell_type": "code",
   "execution_count": null,
   "metadata": {},
   "outputs": [],
   "source": [
    "merged_results.to_excel('merged_mutational_signatures_v3.xlsx',index=None,sheet_name=\"full metrics\")"
   ]
  }
 ],
 "metadata": {
  "kernelspec": {
   "display_name": "base",
   "language": "python",
   "name": "python3"
  },
  "language_info": {
   "codemirror_mode": {
    "name": "ipython",
    "version": 3
   },
   "file_extension": ".py",
   "mimetype": "text/x-python",
   "name": "python",
   "nbconvert_exporter": "python",
   "pygments_lexer": "ipython3",
   "version": "3.10.9"
  }
 },
 "nbformat": 4,
 "nbformat_minor": 2
}
